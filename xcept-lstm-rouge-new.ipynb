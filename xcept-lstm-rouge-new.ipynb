{
 "cells": [
  {
   "cell_type": "code",
   "execution_count": 2,
   "metadata": {
    "executionInfo": {
     "elapsed": 1743,
     "status": "ok",
     "timestamp": 1640913215232,
     "user": {
      "displayName": "Agus Nursikuwagus",
      "photoUrl": "https://lh3.googleusercontent.com/a-/AOh14Gh6urh3zUCPZtGYUpmBYHjANR48ZvVOvmvhVDHt=s64",
      "userId": "11953329030949391162"
     },
     "user_tz": -420
    },
    "id": "mzmQzCHz9cIy"
   },
   "outputs": [],
   "source": [
    "'''\n",
    "Programmer : Agus Nursikuwagus\n",
    "Create :  January, 3, 2023\n",
    "This program is an implementation of image captioning geological rocks images.\n",
    "Some issues related to other model and tested with baseline model.\n",
    "We called the program is SemAtt Captioning\n",
    "'''\n",
    "\n",
    "import numpy as np\n",
    "from numpy import array\n",
    "\n",
    "import matplotlib.pyplot as plt\n",
    "#%matplotlib inline\n",
    "\n",
    "\n",
    "import string\n",
    "import os\n",
    "import glob\n",
    "import tensorflow as tf\n",
    "\n",
    "from time import time\n",
    "\n",
    "from keras import Input, layers\n",
    "from keras import optimizers\n",
    "\n",
    "from tensorflow.keras.optimizers import Adam\n",
    "from tensorflow.keras.preprocessing import sequence\n",
    "from tensorflow.keras.preprocessing import image\n",
    "from tensorflow.keras.preprocessing.text import Tokenizer\n",
    "from tensorflow.keras.preprocessing.sequence import pad_sequences\n",
    "from tensorflow.keras.layers import LSTM, Embedding, Dense, Activation, Flatten, Reshape, Dropout\n",
    "from tensorflow.keras.layers import add\n",
    "from tensorflow.keras.applications.xception import Xception\n",
    "from tensorflow.keras.applications.xception import preprocess_input\n",
    "from tensorflow.keras.models import Model\n",
    "from tensorflow.keras.models import load_model\n",
    "from tensorflow.keras.utils import to_categorical"
   ]
  },
  {
   "cell_type": "code",
   "execution_count": 3,
   "metadata": {
    "colab": {
     "base_uri": "https://localhost:8080/"
    },
    "executionInfo": {
     "elapsed": 2221,
     "status": "ok",
     "timestamp": 1640913217448,
     "user": {
      "displayName": "Agus Nursikuwagus",
      "photoUrl": "https://lh3.googleusercontent.com/a-/AOh14Gh6urh3zUCPZtGYUpmBYHjANR48ZvVOvmvhVDHt=s64",
      "userId": "11953329030949391162"
     },
     "user_tz": -420
    },
    "id": "5kz2DP909cI9",
    "outputId": "2838108a-a1a4-47c5-999e-ce93001caf45"
   },
   "outputs": [
    {
     "name": "stdout",
     "output_type": "stream",
     "text": [
      "1.jpg#0 Singkapan batuan sedimen klastik dengan bidang perlapisan yang tidak tegas, batulumpur karbonatan, masif, retak-retak, sebagian hancur dan mulai lapuk\n",
      "1.jpg#1 Singkapan batuan sedimen klastik dengan bidang perlapisan yang tidak tegas, masif, retak-retak, sebagian hancur sehingga mulai lapuk dan batulumpur karbonatan\n",
      "1.jpg#2 Singkapan batuan sedimen klastik dan batulumpur karbonatan \n",
      "1.jpg#3 batulumpur karbonatan dan Singkapan batuan sedimen klastik\n",
      "1.jpg#4 Singkapan batuan sedimen klastik dengan bidang perlapisan yang tidak tegas dan batulumpur karbonatan\n",
      "2.jpg#0 Pecahan koral\n",
      "2.jpg#1 Pecahan koral\n",
      "2.jpg#2 Pecahan koral\n",
      "2.jpg#3 Pecahan koral\n",
      "2.jpg#4 Pecahan koral\n",
      "3.jpg#0 Singkapan Ba\n"
     ]
    }
   ],
   "source": [
    "token_path = \"flicker8k_dataset/Flickr8K_Text/Flickr8k.token.txt\"\n",
    "train_images_path = 'flicker8k_dataset/Flickr8K_Text/Flickr_8k.trainImages.txt'\n",
    "test_images_path = 'flicker8k_dataset/Flickr8K_Text/Flickr_8k.testImages.txt'\n",
    "images_path = 'flicker8k_dataset/Flicker8k_Dataset/'\n",
    "test_path ='myimage/'\n",
    "glove_path = 'input/'\n",
    "\n",
    "doc = open(token_path,'r').read()\n",
    "print(doc[:700])"
   ]
  },
  {
   "cell_type": "code",
   "execution_count": 4,
   "metadata": {
    "executionInfo": {
     "elapsed": 5,
     "status": "ok",
     "timestamp": 1640913217448,
     "user": {
      "displayName": "Agus Nursikuwagus",
      "photoUrl": "https://lh3.googleusercontent.com/a-/AOh14Gh6urh3zUCPZtGYUpmBYHjANR48ZvVOvmvhVDHt=s64",
      "userId": "11953329030949391162"
     },
     "user_tz": -420
    },
    "id": "nNuzqGb29cI9"
   },
   "outputs": [],
   "source": [
    "descriptions = dict()\n",
    "for line in doc.split('\\n'):\n",
    "        tokens = line.split()\n",
    "        if len(line) > 2:\n",
    "            image_id = tokens[0].split('.')[0]\n",
    "            image_desc = ' '.join(tokens[1:])\n",
    "            if image_id not in descriptions:\n",
    "                descriptions[image_id] = list()\n",
    "            descriptions[image_id].append(image_desc)"
   ]
  },
  {
   "cell_type": "code",
   "execution_count": 5,
   "metadata": {
    "executionInfo": {
     "elapsed": 3,
     "status": "ok",
     "timestamp": 1640913217449,
     "user": {
      "displayName": "Agus Nursikuwagus",
      "photoUrl": "https://lh3.googleusercontent.com/a-/AOh14Gh6urh3zUCPZtGYUpmBYHjANR48ZvVOvmvhVDHt=s64",
      "userId": "11953329030949391162"
     },
     "user_tz": -420
    },
    "id": "7RkQsc5Z9cI-"
   },
   "outputs": [],
   "source": [
    "table = str.maketrans('', '', string.punctuation)\n",
    "for key, desc_list in descriptions.items():\n",
    "    for i in range(len(desc_list)):\n",
    "        desc = desc_list[i]\n",
    "        desc = desc.split()\n",
    "        desc = [word.lower() for word in desc]\n",
    "        desc = [w.translate(table) for w in desc]\n",
    "        desc_list[i] =  ' '.join(desc)"
   ]
  },
  {
   "cell_type": "code",
   "execution_count": 7,
   "metadata": {
    "colab": {
     "base_uri": "https://localhost:8080/"
    },
    "executionInfo": {
     "elapsed": 9,
     "status": "ok",
     "timestamp": 1640913219129,
     "user": {
      "displayName": "Agus Nursikuwagus",
      "photoUrl": "https://lh3.googleusercontent.com/a-/AOh14Gh6urh3zUCPZtGYUpmBYHjANR48ZvVOvmvhVDHt=s64",
      "userId": "11953329030949391162"
     },
     "user_tz": -420
    },
    "id": "XLXcBmWF9cJH",
    "outputId": "68a36e0f-9b71-4142-a6a7-ba12cbceba11"
   },
   "outputs": [
    {
     "name": "stdout",
     "output_type": "stream",
     "text": [
      "Original Vocabulary Size: 397\n"
     ]
    }
   ],
   "source": [
    "vocabulary = set()\n",
    "for key in descriptions.keys():\n",
    "        [vocabulary.update(d.split()) for d in descriptions[key]]\n",
    "print('Original Vocabulary Size: %d' % len(vocabulary))"
   ]
  },
  {
   "cell_type": "code",
   "execution_count": 8,
   "metadata": {
    "executionInfo": {
     "elapsed": 7,
     "status": "ok",
     "timestamp": 1640913219129,
     "user": {
      "displayName": "Agus Nursikuwagus",
      "photoUrl": "https://lh3.googleusercontent.com/a-/AOh14Gh6urh3zUCPZtGYUpmBYHjANR48ZvVOvmvhVDHt=s64",
      "userId": "11953329030949391162"
     },
     "user_tz": -420
    },
    "id": "nBn25i8r9cJH"
   },
   "outputs": [],
   "source": [
    "lines = list()\n",
    "for key, desc_list in descriptions.items():\n",
    "    for desc in desc_list:\n",
    "        lines.append(key + ' ' + desc)\n",
    "        \n",
    "new_descriptions = '\\n'.join(lines)"
   ]
  },
  {
   "cell_type": "code",
   "execution_count": 9,
   "metadata": {
    "executionInfo": {
     "elapsed": 552,
     "status": "ok",
     "timestamp": 1640913219674,
     "user": {
      "displayName": "Agus Nursikuwagus",
      "photoUrl": "https://lh3.googleusercontent.com/a-/AOh14Gh6urh3zUCPZtGYUpmBYHjANR48ZvVOvmvhVDHt=s64",
      "userId": "11953329030949391162"
     },
     "user_tz": -420
    },
    "id": "-Ttvng9h9cJH"
   },
   "outputs": [],
   "source": [
    "doc = open(train_images_path,'r').read()\n",
    "dataset = list()\n",
    "for line in doc.split('\\n'):\n",
    "    if len(line) > 1:\n",
    "      identifier = line.split('.')[0]\n",
    "      dataset.append(identifier)\n",
    "\n",
    "train = set(dataset)"
   ]
  },
  {
   "cell_type": "code",
   "execution_count": 10,
   "metadata": {
    "executionInfo": {
     "elapsed": 8,
     "status": "ok",
     "timestamp": 1640913219675,
     "user": {
      "displayName": "Agus Nursikuwagus",
      "photoUrl": "https://lh3.googleusercontent.com/a-/AOh14Gh6urh3zUCPZtGYUpmBYHjANR48ZvVOvmvhVDHt=s64",
      "userId": "11953329030949391162"
     },
     "user_tz": -420
    },
    "id": "WZKZ60qj9cJI"
   },
   "outputs": [
    {
     "name": "stdout",
     "output_type": "stream",
     "text": [
      "myimage/\n",
      "{'269.jpg', '1.jpg', '696.jpg', '443.jpg', '434.jpg', '7.jpg', '421.jpg', '725.jpg', '775.jpg', '569.jpg', '575.jpg', '174.jpg', '529.jpg', '506.jpg', '9.jpg', '680.jpg', '693.jpg', '335.jpg', '492.jpg', '615.jpg', '810.jpg', '530.jpg', '272.jpg', '625.jpg', '261.jpg', '11.jpg', '451.jpg', '835.jpg', '251.jpg', '192.jpg', '318.jpg', '720.jpg', '394.jpg', '603.jpg', '812.jpg', '231.jpg', '532.jpg', '339.jpg', '518.jpg', '129.jpg', '156.jpg', '606.jpg', '19.jpg', '564.jpg', '711.jpg', '420.jpg', '642.jpg', '505.jpg', '211.jpg', '651.jpg', '840.jpg', '424.jpg', '295.jpg', '668.jpg', '665.jpg', '539.jpg', '105.jpg', '722.jpg', '723.jpg', '182.jpg', '43.jpg', '314.jpg', '38.jpg', '89.jpg', '383.jpg', '831.jpg', '438.jpg', '824.jpg', '408.jpg', '12.jpg', '446.jpg', '699.jpg', '176.jpg', '510.jpg', '783.jpg', '613.jpg', '776.jpg', '524.jpg', '359.jpg', '206.jpg', '653.jpg', '37.jpg', '587.jpg', '599.jpg', '647.jpg', '718.jpg', '245.jpg', '590.jpg', '413.jpg', '456.jpg', '117.jpg', '30.jpg', '609.jpg', '87.jpg', '116.jpg', '388.jpg', '533.jpg', '650.jpg', '829.jpg', '33.jpg', '267.jpg', '507.jpg', '787.jpg', '490.jpg', '305.jpg', '180.jpg', '418.jpg', '188.jpg', '187.jpg', '88.jpg', '556.jpg', '110.jpg', '761.jpg', '202.jpg', '99.jpg', '356.jpg', '337.jpg', '845.jpg', '350.jpg', '34.jpg', '679.jpg', '672.jpg', '254.jpg', '432.jpg', '548.jpg', '675.jpg', '811.jpg', '138.jpg', '403.jpg', '656.jpg', '758.jpg', '779.jpg', '717.jpg', '401.jpg', '568.jpg', '800.jpg', '815.jpg', '248.jpg', '571.jpg', '217.jpg', '127.jpg', '581.jpg', '821.jpg', '316.jpg', '241.jpg', '196.jpg', '825.jpg'}\n"
     ]
    }
   ],
   "source": [
    "img = glob.glob(images_path + '*.jpg')\n",
    "train_images = set(open(train_images_path, 'r').read().strip().split('\\n'))\n",
    "train_img = []\n",
    "for i in img: \n",
    "    if i[len(images_path):] in train_images:\n",
    "        train_img.append(i)\n",
    "\n",
    "#print(train_img)\n",
    "\n",
    "print(test_path)\n",
    "imgs = glob.glob(test_path + '*.jpg')\n",
    "test_images = set(open(test_images_path, 'r').read().strip().split('\\n'))\n",
    "print(test_images)\n",
    "test_img = []\n",
    "for j in imgs: \n",
    "    if j[len(test_path):] in test_images: \n",
    "        test_img.append(j)\n",
    "\n",
    "#print(test_img)"
   ]
  },
  {
   "cell_type": "code",
   "execution_count": 11,
   "metadata": {
    "executionInfo": {
     "elapsed": 2,
     "status": "ok",
     "timestamp": 1640913220869,
     "user": {
      "displayName": "Agus Nursikuwagus",
      "photoUrl": "https://lh3.googleusercontent.com/a-/AOh14Gh6urh3zUCPZtGYUpmBYHjANR48ZvVOvmvhVDHt=s64",
      "userId": "11953329030949391162"
     },
     "user_tz": -420
    },
    "id": "KrfZLNUS9cJI"
   },
   "outputs": [],
   "source": [
    "train_descriptions = dict()\n",
    "for line in new_descriptions.split('\\n'):\n",
    "    tokens = line.split()\n",
    "    image_id, image_desc = tokens[0], tokens[1:]\n",
    "    if image_id in train:\n",
    "        if image_id not in train_descriptions:\n",
    "            train_descriptions[image_id] = list()\n",
    "        desc = 'startseq ' + ' '.join(image_desc) + ' endseq'\n",
    "        train_descriptions[image_id].append(desc)"
   ]
  },
  {
   "cell_type": "code",
   "execution_count": 12,
   "metadata": {
    "executionInfo": {
     "elapsed": 2,
     "status": "ok",
     "timestamp": 1640913222499,
     "user": {
      "displayName": "Agus Nursikuwagus",
      "photoUrl": "https://lh3.googleusercontent.com/a-/AOh14Gh6urh3zUCPZtGYUpmBYHjANR48ZvVOvmvhVDHt=s64",
      "userId": "11953329030949391162"
     },
     "user_tz": -420
    },
    "id": "tXPbwPWi9cJI"
   },
   "outputs": [],
   "source": [
    "all_train_captions = []\n",
    "for key, val in train_descriptions.items():\n",
    "    for cap in val:\n",
    "        all_train_captions.append(cap)"
   ]
  },
  {
   "cell_type": "code",
   "execution_count": 13,
   "metadata": {
    "colab": {
     "base_uri": "https://localhost:8080/"
    },
    "executionInfo": {
     "elapsed": 2,
     "status": "ok",
     "timestamp": 1640913223438,
     "user": {
      "displayName": "Agus Nursikuwagus",
      "photoUrl": "https://lh3.googleusercontent.com/a-/AOh14Gh6urh3zUCPZtGYUpmBYHjANR48ZvVOvmvhVDHt=s64",
      "userId": "11953329030949391162"
     },
     "user_tz": -420
    },
    "id": "G4fAI-5G9cJJ",
    "outputId": "f5aeb56c-87ee-47f7-ba54-744b22182d0e"
   },
   "outputs": [
    {
     "name": "stdout",
     "output_type": "stream",
     "text": [
      "Vocabulary = 399\n"
     ]
    }
   ],
   "source": [
    "word_count_threshold = 0\n",
    "word_counts = {}\n",
    "nsents = 0\n",
    "for sent in all_train_captions:\n",
    "    nsents += 1\n",
    "    for w in sent.split(' '):\n",
    "        word_counts[w] = word_counts.get(w, 0) + 1\n",
    "vocab = [w for w in word_counts if word_counts[w] >= word_count_threshold]\n",
    "\n",
    "print('Vocabulary = %d' % (len(vocab)))"
   ]
  },
  {
   "cell_type": "code",
   "execution_count": 14,
   "metadata": {
    "executionInfo": {
     "elapsed": 1,
     "status": "ok",
     "timestamp": 1640913224629,
     "user": {
      "displayName": "Agus Nursikuwagus",
      "photoUrl": "https://lh3.googleusercontent.com/a-/AOh14Gh6urh3zUCPZtGYUpmBYHjANR48ZvVOvmvhVDHt=s64",
      "userId": "11953329030949391162"
     },
     "user_tz": -420
    },
    "id": "pMZwsYF_9cJJ"
   },
   "outputs": [],
   "source": [
    "ixtoword = {}\n",
    "wordtoix = {}\n",
    "ix = 1\n",
    "for w in vocab:\n",
    "    wordtoix[w] = ix\n",
    "    ixtoword[ix] = w\n",
    "    ix += 1\n",
    "\n",
    "vocab_size = len(ixtoword) + 1"
   ]
  },
  {
   "cell_type": "code",
   "execution_count": 15,
   "metadata": {
    "colab": {
     "base_uri": "https://localhost:8080/"
    },
    "executionInfo": {
     "elapsed": 3,
     "status": "ok",
     "timestamp": 1640913225901,
     "user": {
      "displayName": "Agus Nursikuwagus",
      "photoUrl": "https://lh3.googleusercontent.com/a-/AOh14Gh6urh3zUCPZtGYUpmBYHjANR48ZvVOvmvhVDHt=s64",
      "userId": "11953329030949391162"
     },
     "user_tz": -420
    },
    "id": "lPpT_rQs9cJJ",
    "outputId": "5dc9fabe-ba57-4efb-f4fb-6a3603797022"
   },
   "outputs": [
    {
     "name": "stdout",
     "output_type": "stream",
     "text": [
      "Description Length: 22\n"
     ]
    }
   ],
   "source": [
    "all_desc = list()\n",
    "for key in train_descriptions.keys():\n",
    "    [all_desc.append(d) for d in train_descriptions[key]]\n",
    "lines = all_desc\n",
    "max_length = max(len(d.split()) for d in lines)\n",
    "\n",
    "print('Description Length: %d' % max_length)"
   ]
  },
  {
   "cell_type": "code",
   "execution_count": 16,
   "metadata": {
    "executionInfo": {
     "elapsed": 866,
     "status": "ok",
     "timestamp": 1640913228300,
     "user": {
      "displayName": "Agus Nursikuwagus",
      "photoUrl": "https://lh3.googleusercontent.com/a-/AOh14Gh6urh3zUCPZtGYUpmBYHjANR48ZvVOvmvhVDHt=s64",
      "userId": "11953329030949391162"
     },
     "user_tz": -420
    },
    "id": "2z0Oe8IH9cJJ"
   },
   "outputs": [],
   "source": [
    "embeddings_index = {} \n",
    "f = open(os.path.join(glove_path, 'geo_glove.txt'), encoding=\"utf-8\")\n",
    "for line in f:\n",
    "    values = line.split()\n",
    "    word = values[0]\n",
    "    coefs = np.asarray(values[1:], dtype='float32')\n",
    "    embeddings_index[word] = coefs"
   ]
  },
  {
   "cell_type": "code",
   "execution_count": 17,
   "metadata": {
    "executionInfo": {
     "elapsed": 513,
     "status": "ok",
     "timestamp": 1640913228812,
     "user": {
      "displayName": "Agus Nursikuwagus",
      "photoUrl": "https://lh3.googleusercontent.com/a-/AOh14Gh6urh3zUCPZtGYUpmBYHjANR48ZvVOvmvhVDHt=s64",
      "userId": "11953329030949391162"
     },
     "user_tz": -420
    },
    "id": "IK_uB3Cv9cJK"
   },
   "outputs": [],
   "source": [
    "embedding_dim = 100\n",
    "embedding_matrix = np.zeros((vocab_size, embedding_dim))\n",
    "for word, i in wordtoix.items():\n",
    "    embedding_vector = embeddings_index.get(word)\n",
    "    if embedding_vector is not None:\n",
    "        embedding_matrix[i] = embedding_vector"
   ]
  },
  {
   "cell_type": "code",
   "execution_count": 18,
   "metadata": {
    "executionInfo": {
     "elapsed": 3160,
     "status": "ok",
     "timestamp": 1640913235701,
     "user": {
      "displayName": "Agus Nursikuwagus",
      "photoUrl": "https://lh3.googleusercontent.com/a-/AOh14Gh6urh3zUCPZtGYUpmBYHjANR48ZvVOvmvhVDHt=s64",
      "userId": "11953329030949391162"
     },
     "user_tz": -420
    },
    "id": "R5V2ZpV_9cJK"
   },
   "outputs": [],
   "source": [
    "model = tf.keras.applications.xception.Xception()\n",
    "\n"
   ]
  },
  {
   "cell_type": "code",
   "execution_count": 20,
   "metadata": {
    "executionInfo": {
     "elapsed": 328,
     "status": "ok",
     "timestamp": 1640913240112,
     "user": {
      "displayName": "Agus Nursikuwagus",
      "photoUrl": "https://lh3.googleusercontent.com/a-/AOh14Gh6urh3zUCPZtGYUpmBYHjANR48ZvVOvmvhVDHt=s64",
      "userId": "11953329030949391162"
     },
     "user_tz": -420
    },
    "id": "QIae_H1W9cJL"
   },
   "outputs": [],
   "source": [
    "def preprocess(image_path):\n",
    "    img = image.load_img(image_path, target_size=(299, 299))\n",
    "    x = image.img_to_array(img)\n",
    "    x = np.expand_dims(x, axis=0)\n",
    "    x = preprocess_input(x)\n",
    "    return x"
   ]
  },
  {
   "cell_type": "code",
   "execution_count": 23,
   "metadata": {
    "executionInfo": {
     "elapsed": 3,
     "status": "ok",
     "timestamp": 1640913264905,
     "user": {
      "displayName": "Agus Nursikuwagus",
      "photoUrl": "https://lh3.googleusercontent.com/a-/AOh14Gh6urh3zUCPZtGYUpmBYHjANR48ZvVOvmvhVDHt=s64",
      "userId": "11953329030949391162"
     },
     "user_tz": -420
    },
    "id": "BK15zVYU9cJN"
   },
   "outputs": [],
   "source": [
    "model.compile(loss='categorical_crossentropy', optimizer='adam', metrics = ['accuracy'])\n"
   ]
  },
  {
   "cell_type": "code",
   "execution_count": 24,
   "metadata": {
    "executionInfo": {
     "elapsed": 4,
     "status": "ok",
     "timestamp": 1640913264906,
     "user": {
      "displayName": "Agus Nursikuwagus",
      "photoUrl": "https://lh3.googleusercontent.com/a-/AOh14Gh6urh3zUCPZtGYUpmBYHjANR48ZvVOvmvhVDHt=s64",
      "userId": "11953329030949391162"
     },
     "user_tz": -420
    },
    "id": "uKY2Y1859cJN"
   },
   "outputs": [],
   "source": [
    "def data_generator(descriptions, photos, wordtoix, max_length, num_photos_per_batch):\n",
    "    X1, X2, y = list(), list(), list()\n",
    "    n=0\n",
    "    # loop for ever over images\n",
    "    while 1:\n",
    "        for key, desc_list in descriptions.items():\n",
    "            n+=1\n",
    "            # retrieve the photo feature\n",
    "            photo = photos[key+'.jpg']\n",
    "            for desc in desc_list:\n",
    "                # encode the sequence\n",
    "                seq = [wordtoix[word] for word in desc.split(' ') if word in wordtoix]\n",
    "                # split one sequence into multiple X, y pairs\n",
    "                for i in range(1, len(seq)):\n",
    "                    # split into input and output pair\n",
    "                    in_seq, out_seq = seq[:i], seq[i]\n",
    "                    # pad input sequence\n",
    "                    in_seq = pad_sequences([in_seq], maxlen=max_length)[0]\n",
    "                    # encode output sequence\n",
    "                    out_seq = to_categorical([out_seq], num_classes=vocab_size)[0]\n",
    "                    # store\n",
    "                    X1.append(photo)\n",
    "                    X2.append(in_seq)\n",
    "                    y.append(out_seq)\n",
    "\n",
    "            if n==num_photos_per_batch:\n",
    "                yield ([array(X1), array(X2)], array(y))\n",
    "                X1, X2, y = list(), list(), list()\n",
    "                n=0"
   ]
  },
  {
   "cell_type": "code",
   "execution_count": 52,
   "metadata": {
    "colab": {
     "base_uri": "https://localhost:8080/"
    },
    "executionInfo": {
     "elapsed": 713,
     "status": "ok",
     "timestamp": 1640914242776,
     "user": {
      "displayName": "Agus Nursikuwagus",
      "photoUrl": "https://lh3.googleusercontent.com/a-/AOh14Gh6urh3zUCPZtGYUpmBYHjANR48ZvVOvmvhVDHt=s64",
      "userId": "11953329030949391162"
     },
     "user_tz": -420
    },
    "id": "2Og2cVeH9cJO",
    "outputId": "4c903906-c164-4e94-815e-a610dbc698b5"
   },
   "outputs": [
    {
     "name": "stdout",
     "output_type": "stream",
     "text": [
      "[3.8628361225128174, 3.3802154064178467, 3.0603837966918945, 2.7593297958374023, 2.572065591812134, 2.4918317794799805, 2.41955304145813, 2.3201870918273926, 2.188638925552368, 2.0699360370635986, 2.0098695755004883, 1.9121036529541016, 1.8663336038589478, 1.7537946701049805, 1.677199125289917, 1.5458985567092896, 1.429342269897461, 1.3187050819396973, 1.217733383178711, 1.119376540184021, 1.0509270429611206, 0.9853827953338623, 0.9240804314613342, 0.8720510601997375, 0.874224066734314, 0.8803191184997559, 0.8068867325782776, 0.7606879472732544, 0.7288453578948975, 0.6912001967430115, 0.6801192164421082, 0.670045793056488, 0.6619278788566589, 0.6331254839897156, 0.6077918410301208, 0.5807414650917053, 0.5694221258163452, 0.5429888963699341, 0.5462940335273743, 0.5291479825973511, 0.509393036365509, 0.5036565065383911, 0.48483702540397644, 0.47691696882247925, 0.47227081656455994, 0.4611097574234009, 0.4456038475036621, 0.4402577579021454, 0.434385746717453, 0.4179089665412903, 0.41484200954437256, 0.4086446762084961, 0.4075652062892914, 0.40282142162323, 0.39892399311065674, 0.3905867636203766, 0.3813488483428955, 0.37860557436943054, 0.3756628930568695, 0.36722850799560547, 0.36945176124572754, 0.3614691495895386, 0.3597802221775055, 0.36047816276550293, 0.35923945903778076, 0.35360121726989746, 0.35623809695243835, 0.34943991899490356, 0.34431153535842896, 0.35120096802711487, 0.3465084135532379, 0.3396991491317749, 0.33599284291267395, 0.3313072621822357, 0.3331093192100525, 0.33672991394996643, 0.33646678924560547, 0.32973620295524597, 0.33311161398887634, 0.32843902707099915, 0.33000102639198303, 0.32939621806144714, 0.32385891675949097, 0.3286901116371155, 0.3205147385597229, 0.31985580921173096, 0.3201892375946045, 0.3264623284339905, 0.3206363916397095, 0.3205699026584625, 0.321090430021286, 0.314259797334671, 0.3158445954322815, 0.31790733337402344, 0.31801459193229675, 0.3120216727256775, 0.3129153251647949, 0.3184043765068054, 0.3135643005371094, 0.31113487482070923, 0.31258511543273926, 0.3152841031551361, 0.3091539442539215, 0.3085719645023346, 0.31268757581710815, 0.30944088101387024, 0.3122197389602661, 0.310578316450119, 0.31251367926597595, 0.3145431578159332, 0.3021368086338043, 0.3049130141735077, 0.302413672208786, 0.29806968569755554, 0.3019183278083801, 0.3062017560005188, 0.30996081233024597, 0.306476354598999, 0.30284321308135986, 0.3034254014492035, 0.30528783798217773, 0.30662915110588074, 0.2983097732067108, 0.29971280694007874]\n",
      "[0.28879329562187195, 0.323058545589447, 0.3418876826763153, 0.3710872232913971, 0.3964635729789734, 0.40444445610046387, 0.40262842178344727, 0.4228912889957428, 0.4438231885433197, 0.4560573399066925, 0.46972522139549255, 0.4812425374984741, 0.48821982741355896, 0.5135961771011353, 0.5208601951599121, 0.5562723875045776, 0.5701792240142822, 0.6029151678085327, 0.623130202293396, 0.6515173316001892, 0.6655675172805786, 0.6806212663650513, 0.6997371315956116, 0.7144085764884949, 0.7073835134506226, 0.7127359509468079, 0.7261170744895935, 0.7407885193824768, 0.7500597238540649, 0.7578972578048706, 0.7621983289718628, 0.7645878195762634, 0.7673596143722534, 0.7783990502357483, 0.7861409783363342, 0.7931660413742065, 0.7925447821617126, 0.7979928255081177, 0.7990441918373108, 0.8025806546211243, 0.8105137348175049, 0.8107048869132996, 0.8159617781639099, 0.8199282884597778, 0.8193548321723938, 0.8239904642105103, 0.8249940276145935, 0.8289127945899963, 0.8310633301734924, 0.8347909450531006, 0.8350776433944702, 0.8393787145614624, 0.8369892239570618, 0.8379450440406799, 0.8376582860946655, 0.8429151773452759, 0.8446356058120728, 0.8431541323661804, 0.8435364365577698, 0.845065712928772, 0.8480764627456665, 0.8471206426620483, 0.8472162485122681, 0.8482676148414612, 0.8483632206916809, 0.8479808568954468, 0.8467861413955688, 0.8543369174003601, 0.8508960604667664, 0.8500836491584778, 0.8513261675834656, 0.8533810973167419, 0.8531899452209473, 0.852186381816864, 0.8544325232505798, 0.8518518805503845, 0.8538112044334412, 0.8536678552627563, 0.8552927374839783, 0.8552927374839783, 0.8535723090171814, 0.8548148274421692, 0.8537634611129761, 0.8544802665710449, 0.856057345867157, 0.8566786050796509, 0.8578255772590637, 0.8529509902000427, 0.8580645322799683, 0.8560095429420471, 0.8578733801841736, 0.8589247465133667, 0.8567742109298706, 0.8551493287086487, 0.8565352559089661, 0.85715651512146, 0.8596893548965454, 0.8561051487922668, 0.8581123352050781, 0.8585424423217773, 0.8565352559089661, 0.8574432730674744, 0.8590202927589417, 0.8583034873008728, 0.8569175601005554, 0.858829140663147, 0.8584946393966675, 0.8567742109298706, 0.8574432730674744, 0.8572520613670349, 0.8591158986091614, 0.8584468364715576, 0.861505389213562, 0.8609318733215332, 0.8609318733215332, 0.8579211235046387, 0.8572043180465698, 0.8573476672172546, 0.8584946393966675, 0.8585424423217773, 0.8594503998756409, 0.8591158986091614, 0.8617920875549316, 0.8599761128425598]\n"
     ]
    }
   ],
   "source": [
    "print(history.history['loss'])\n",
    "print(history.history['accuracy'])\n",
    "\n",
    "model.save('./input/xception_lstm.h5')"
   ]
  },
  {
   "cell_type": "code",
   "execution_count": 25,
   "metadata": {
    "executionInfo": {
     "elapsed": 1406,
     "status": "ok",
     "timestamp": 1640914244181,
     "user": {
      "displayName": "Agus Nursikuwagus",
      "photoUrl": "https://lh3.googleusercontent.com/a-/AOh14Gh6urh3zUCPZtGYUpmBYHjANR48ZvVOvmvhVDHt=s64",
      "userId": "11953329030949391162"
     },
     "user_tz": -420
    },
    "id": "t_i-ajFY9cJP"
   },
   "outputs": [],
   "source": [
    "from nltk.translate.bleu_score import corpus_bleu\n",
    "from keras.models import load_model\n",
    "\n",
    "model = load_model('./input/xception_lstm.h5')\n",
    "\n",
    "def greedySearch(photo):\n",
    "    in_text = 'startseq'\n",
    "    for i in range(max_length):\n",
    "        sequence = [wordtoix[w] for w in in_text.split() if w in wordtoix]\n",
    "        sequence = pad_sequences([sequence], maxlen=max_length)\n",
    "        yhat = model.predict([photo,sequence], verbose=0)\n",
    "        yhat = np.argmax(yhat)\n",
    "        word = ixtoword[yhat]\n",
    "        in_text += ' ' + word\n",
    "        if word == 'endseq':\n",
    "            break\n",
    "            \n",
    "    final = in_text.split()\n",
    "    final = final[1:-1]\n",
    "    final = ' '.join(final)\n",
    "    \n",
    "       \n",
    "    return final"
   ]
  },
  {
   "cell_type": "code",
   "execution_count": 26,
   "metadata": {
    "executionInfo": {
     "elapsed": 5,
     "status": "ok",
     "timestamp": 1640914244181,
     "user": {
      "displayName": "Agus Nursikuwagus",
      "photoUrl": "https://lh3.googleusercontent.com/a-/AOh14Gh6urh3zUCPZtGYUpmBYHjANR48ZvVOvmvhVDHt=s64",
      "userId": "11953329030949391162"
     },
     "user_tz": -420
    },
    "id": "i7QatW3U9cJP"
   },
   "outputs": [],
   "source": [
    "import pandas as pd\n",
    "\n",
    "def beam_search_predictions(image, beam_index = 3):\n",
    "    start = [wordtoix[\"startseq\"]]\n",
    "    start_word = [[start, 0.0]]\n",
    "    i = 0\n",
    "    while len(start_word[0][0]) < max_length:\n",
    "        temp = []\n",
    "        for s in start_word:\n",
    "            par_caps = sequence.pad_sequences([s[0]], maxlen=max_length, padding='post')\n",
    "            #print(par_caps)\n",
    "            #print('\\n')\n",
    "            \n",
    "            preds = model.predict([image,par_caps], verbose=0)\n",
    "            #print(preds)\n",
    "            #print('\\n')\n",
    "            \n",
    "            word_preds = np.argsort(preds[0])[-beam_index:]\n",
    "            # Getting the top <beam_index>(n) predictions and creating a \n",
    "            # new list so as to put them via the model again\n",
    "            for w in word_preds:\n",
    "                             \n",
    "                next_cap, prob = s[0][:], s[1]\n",
    "                next_cap.append(w)\n",
    "                prob += preds[0][w]\n",
    "                temp.append([next_cap, prob])\n",
    "                df = pd.DataFrame(temp, columns = ['Sequence Word','Probabilty'])\n",
    "                #print(df.head(10))\n",
    "                #print('\\n')\n",
    "                \n",
    "                    \n",
    "        start_word = temp\n",
    "        # Sorting according to the probabilities\n",
    "        start_word = sorted(start_word, reverse=False, key=lambda l: l[1])\n",
    "        # Getting the top words\n",
    "        start_word = start_word[-beam_index:]\n",
    "        df_word = pd.DataFrame(start_word)\n",
    "        #print('\\n')\n",
    "        \n",
    "    \n",
    "    start_word = start_word[-1][0]\n",
    "    intermediate_caption = [ixtoword[i] for i in start_word]\n",
    "    final_caption = []\n",
    "    \n",
    "    for i in intermediate_caption:\n",
    "        if i != 'endseq':\n",
    "            final_caption.append(i)\n",
    "        else:\n",
    "            break\n",
    "\n",
    "    final_caption = ' '.join(final_caption[1:])\n",
    "    #print(final_caption)\n",
    "    \n",
    "    return final_caption"
   ]
  },
  {
   "cell_type": "code",
   "execution_count": 27,
   "metadata": {
    "colab": {
     "base_uri": "https://localhost:8080/"
    },
    "executionInfo": {
     "elapsed": 1245,
     "status": "ok",
     "timestamp": 1640914245423,
     "user": {
      "displayName": "Agus Nursikuwagus",
      "photoUrl": "https://lh3.googleusercontent.com/a-/AOh14Gh6urh3zUCPZtGYUpmBYHjANR48ZvVOvmvhVDHt=s64",
      "userId": "11953329030949391162"
     },
     "user_tz": -420
    },
    "id": "RcTId7Fj9cJP",
    "outputId": "a381f194-097a-40c0-c306-64f8c6c36860"
   },
   "outputs": [
    {
     "name": "stderr",
     "output_type": "stream",
     "text": [
      "[nltk_data] Downloading package punkt to\n",
      "[nltk_data]     C:\\Users\\agus2\\AppData\\Roaming\\nltk_data...\n",
      "[nltk_data]   Package punkt is already up-to-date!\n"
     ]
    }
   ],
   "source": [
    "import tensorflow as tf\n",
    "import nltk\n",
    "nltk.download('punkt')\n",
    "\n",
    "from nltk import word_tokenize\n",
    "\n",
    "def tokeniser(text_generation):\n",
    "    token = []\n",
    "    #i = 0\n",
    "    for in_txt in text_generation:\n",
    "        refer = word_tokenize(in_txt)\n",
    "        token.append(refer)\n",
    "        #print(token[i])\n",
    "        #i =+ 1\n",
    "      \n",
    "            \n",
    "    list_token = token        \n",
    "    return list_token        \n",
    "\n",
    "#print(tokeniser(descriptions['1']))"
   ]
  },
  {
   "cell_type": "code",
   "execution_count": null,
   "metadata": {
    "id": "m-OuKeGuLjNI"
   },
   "outputs": [],
   "source": [
    "from nltk.translate.bleu_score import sentence_bleu\n",
    "\n",
    "\n",
    "for img in list(encoding_train.keys()):\n",
    "    print(img)\n",
    "    picture = plt.imread(images_path + img)\n",
    "    print('nama file = ' + img)\n",
    "    image = encoding_train[img].reshape(1,4096)\n",
    "    plt.imshow(picture)\n",
    "    plt.show()\n",
    "    \n",
    "    text = img.split('.')[0]\n",
    "    print(descriptions[text])\n",
    "    references = tokeniser(descriptions[text])\n",
    "    #print('\\n')\n",
    "\n",
    "       \n",
    "    print(\"Greedy:\",greedySearch(image))\n",
    "   \n",
    "    print(\"Beam Search, K = 3:\",beam_search_predictions(image, beam_index = 3))\n",
    "    \n",
    "    candidates = word_tokenize(beam_search_predictions(image, beam_index = 3))\n",
    "    #print(\"\\n\")\n",
    "\n",
    "    #print(\"Beam Search, K = 5:\",beam_search_predictions(image, beam_index = 5)) \n",
    "    #print(\"\\n\")\n",
    "\n",
    "    print('BLEU-1: %f' % sentence_bleu(references, candidates, weights=(1.0, 0, 0, 0)))\n",
    "    print('BLEU-2: %f' % sentence_bleu(references, candidates, weights=(0.5, 0.5, 0, 0)))\n",
    "    print('BLEU-3: %f' % sentence_bleu(references, candidates, weights=(0.3, 0.3, 0.3, 0)))\n",
    "    print('BLEU-4: %f' % sentence_bleu(references, candidates, weights=(0.25, 0.25, 0.25, 0.25)))\n",
    "    print(\"\\n\")"
   ]
  },
  {
   "cell_type": "code",
   "execution_count": null,
   "metadata": {
    "colab": {
     "base_uri": "https://localhost:8080/",
     "height": 597
    },
    "executionInfo": {
     "elapsed": 15141,
     "status": "ok",
     "timestamp": 1640656550488,
     "user": {
      "displayName": "Agus Nursikuwagus",
      "photoUrl": "https://lh3.googleusercontent.com/a-/AOh14Gh6urh3zUCPZtGYUpmBYHjANR48ZvVOvmvhVDHt=s64",
      "userId": "11953329030949391162"
     },
     "user_tz": -420
    },
    "id": "4axlt0A48uMH",
    "outputId": "d7e885af-4f32-4676-a958-ffcbac4839ca"
   },
   "outputs": [],
   "source": [
    "from nltk.translate.bleu_score import sentence_bleu\n",
    "from sklearn.metrics import confusion_matrix\n",
    "from sklearn.metrics import multilabel_confusion_matrix\n",
    "import seaborn as sns\n",
    "\n",
    "pic = '1.jpg'\n",
    "image = encoding_test[pic].reshape((1,4096))\n",
    "x=plt.imread(test_path + pic)\n",
    "plt.imshow(x)\n",
    "plt.show()\n",
    "\n",
    "print('++++++++++++++++++++++++++++++++++++++++++++++++++++++++')\n",
    "print(\"Greedy Search Predictions :\",greedySearch(image))\n",
    "print('\\n')\n",
    "\n",
    "print('++++++++++++++++++++++++++++++++++++++++++++++++++++++++')\n",
    "print(\"Beam Search Predictions, K = 3:\",beam_search_predictions(image, beam_index = 3))\n",
    "print('\\n')\n",
    "\n",
    "print('++++++++++++++++++++++++++++++++++++++++++++++++++++++++')\n",
    "print(\"Beam Search Predictions, K = 5:\",beam_search_predictions(image, beam_index = 5))\n",
    "print('\\n')\n",
    "\n",
    "\n",
    "references = tokeniser(descriptions['1'])\n",
    "print(references)\n",
    "\n",
    "candidates = word_tokenize(beam_search_predictions(image, beam_index = 3))\n",
    "\n",
    "print(references)\n",
    "#print(candidates)\n",
    "\n",
    "print('\\n')\n",
    "\n",
    "print('BLEU-1: %f' % sentence_bleu(references, candidates, weights=(1.0, 0, 0, 0)))\n",
    "print('BLEU-2: %f' % sentence_bleu(references, candidates, weights=(0.5, 0.5, 0, 0)))\n",
    "print('BLEU-3: %f' % sentence_bleu(references, candidates, weights=(0.3, 0.3, 0.3, 0)))\n",
    "print('BLEU-4: %f' % sentence_bleu(references, candidates, weights=(0.25, 0.25, 0.25, 0.25)))\n",
    "\n",
    "\n"
   ]
  },
  {
   "cell_type": "code",
   "execution_count": 29,
   "metadata": {},
   "outputs": [],
   "source": [
    "'''\n",
    "import csv\n",
    "with open('./input/incept_lstm_blue.csv','w', newline='') as f:\n",
    "  for ndx in captions:\n",
    "    wr = csv.writer(f, quoting=csv.QUOTE_ALL)\n",
    "    wr.writerow(ndx)\n",
    "\n",
    "\n",
    "import csv\n",
    "with open('./input/xcept_lstm_rouge.csv','w', newline='') as f:\n",
    "  for ndx in rougelist:\n",
    "    wr = csv.writer(f, quoting=csv.QUOTE_ALL)\n",
    "    wr.writerow(ndx)\n",
    "\n",
    "'''\n",
    "\n",
    "import csv\n",
    "with open('./input/xcept_lstm_meteor.csv','w', newline='') as f:\n",
    "  for ndx in meteorlist:\n",
    "    wr = csv.writer(f, quoting=csv.QUOTE_ALL)\n",
    "    wr.writerow(ndx)"
   ]
  },
  {
   "cell_type": "code",
   "execution_count": null,
   "metadata": {},
   "outputs": [],
   "source": []
  }
 ],
 "metadata": {
  "accelerator": "GPU",
  "colab": {
   "collapsed_sections": [],
   "machine_shape": "hm",
   "name": "CNN33_500.ipynb",
   "provenance": []
  },
  "kernelspec": {
   "display_name": "Python 3 (ipykernel)",
   "language": "python",
   "name": "python3"
  },
  "language_info": {
   "codemirror_mode": {
    "name": "ipython",
    "version": 3
   },
   "file_extension": ".py",
   "mimetype": "text/x-python",
   "name": "python",
   "nbconvert_exporter": "python",
   "pygments_lexer": "ipython3",
   "version": "3.10.11"
  }
 },
 "nbformat": 4,
 "nbformat_minor": 1
}
